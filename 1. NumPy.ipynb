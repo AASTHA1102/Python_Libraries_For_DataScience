{
 "cells": [
  {
   "cell_type": "markdown",
   "id": "d62cea73",
   "metadata": {},
   "source": [
    "# NUMPY "
   ]
  },
  {
   "cell_type": "markdown",
   "id": "3e694512",
   "metadata": {},
   "source": [
    "### Contents\n",
    "\n",
    "### 1. Introduction to NumPy\n",
    "\n",
    "    1.1 What is NumPy?\n",
    "    \n",
    "    1.2 Why Use NumPy in Data Science?\n",
    "    \n",
    "\n",
    "\n",
    "### 2. Installing and Importing NumPy\n",
    "\n",
    "    2.1 Installation Instructions\n",
    "    \n",
    "    2.2 Importing NumPy\n",
    "    \n",
    "    \n",
    "    \n",
    "### 3. NumPy Arrays\n",
    "\n",
    "    3.1 Creating NumPy Arrays\n",
    "    \n",
    "    3.2 Array Attributes\n",
    "    \n",
    "    3.3 Indexing and Slicing Arrays\n",
    "    \n",
    "    3.4 Array Operations \n",
    "    \n",
    "    3.5 Broadcasting\n",
    "    \n",
    "### 4. Array Manipulation\n",
    "\n",
    "    4.1 Reshaping Arrays\n",
    "    \n",
    "    4.2 Joining and Splitting Arrays\n",
    "    \n",
    "    4.3 Changing Array Data Types\n",
    "\n",
    "    4.4 Sorting and Searching Arrays\n",
    "    \n",
    "    \n",
    "\n",
    "### 5. Mathematical Functions\n",
    "    \n",
    "    5.1 Basic Mathematical Operations\n",
    "\n",
    "    5.2 Trigonometric Functions\n",
    "\n",
    "    5.3 Exponential and Logarithmic Functions\n",
    "\n",
    "    5.4 Statistical Functions\n",
    "\n",
    "    5.5 Linear Algebra Operations\n",
    "\n",
    "\n",
    "\n",
    "### 6. Array Input and Output\n",
    "\n",
    "    6.1 Saving and Loading Arrays\n",
    "\n",
    "    6.2 Text File Input and Output\n",
    "\n",
    "    6.3 Binary File Input and Output\n",
    "\n",
    "    6.4 Compressed File Input and Output\n",
    "\n",
    "\n",
    "\n",
    "\n",
    "### 7. Advanced NumPy Features\n",
    "\n",
    "    7.1 Broadcasting in Depth\n",
    "\n",
    "    7.2 Array Manipulation Tricks\n",
    "\n",
    "    7.3 Fancy Indexing and Boolean Masking\n",
    "\n",
    "    7.4 Structured Arrays\n",
    "\n",
    "    7.5 Universal Functions\n",
    "\n",
    "\n",
    "\n",
    "### 8. Performance Tips and Best Practices\n",
    "    \n",
    "    8.1 Vectorization\n",
    "    \n",
    "    8.2 Memory Efficiency\n",
    "    \n",
    "    8.3 Use NumPy Functions Instead of Loops\n",
    "\n",
    "\n",
    "\n",
    "### 9. Conclusion\n",
    "\n",
    "\n",
    "--------------------------------------------------------------------------------------------------------------------------------\n",
    "********************************************************************************************************************************\n",
    "--------------------------------------------------------------------------------------------------------------------------------"
   ]
  },
  {
   "cell_type": "markdown",
   "id": "10157ccd",
   "metadata": {},
   "source": [
    "# 1. Introduction to NumPy\n",
    "#### 1.1 What is NumPy?\n",
    "NumPy (Numerical Python) is an open-source Python library\n",
    "that provides powerful tools for performing numerical\n",
    "computations and working with multi-dimensional arrays. It\n",
    "serves as the foundation for many other scientific computing\n",
    "libraries in Python and is widely used in data science, machine\n",
    "learning, and scientific research.\n",
    "\n",
    "#### 1.2 Why Use NumPy in Data Science?\n",
    "\n",
    "* Efficient array operations: NumPy provides fast and efficientimplementations of mathematical operations on arrays,making it suitable for large-scale data processing.\n",
    "\n",
    "* Multi-dimensional arrays: NumPy arrays allow for efficient storage and manipulation of multi-dimensional data, such as matrices or tensors.\n",
    "\n",
    "* Broadcasting: NumPy supports broadcasting, which enables operations between arrays of different shapes,making code concise and readable.\n",
    "\n",
    "* Integration with other libraries: NumPy seamlessly integrates with other data science libraries such as Pandas,Matplotlib, and scikit-learn, providing a comprehensivecosystem for data analysis and machine learning.\n"
   ]
  },
  {
   "cell_type": "markdown",
   "id": "7d609a10",
   "metadata": {},
   "source": [
    "# 2. Installing and Importing NumPy\n",
    "#### 2.1 Installation Instructions\n",
    "\n"
   ]
  },
  {
   "cell_type": "code",
   "execution_count": 12,
   "id": "f06b0a64",
   "metadata": {},
   "outputs": [
    {
     "name": "stdout",
     "output_type": "stream",
     "text": [
      "Requirement already satisfied: numpy in c:\\users\\aasth\\appdata\\local\\programs\\python\\python311\\lib\\site-packages (1.24.3)\n",
      "Note: you may need to restart the kernel to use updated packages.\n"
     ]
    }
   ],
   "source": [
    "pip install numpy \n"
   ]
  },
  {
   "cell_type": "code",
   "execution_count": 11,
   "id": "ea115006",
   "metadata": {},
   "outputs": [
    {
     "name": "stdout",
     "output_type": "stream",
     "text": [
      "Requirement already satisfied: pip in c:\\users\\aasth\\appdata\\local\\programs\\python\\python311\\lib\\site-packages (23.1.2)\n",
      "Collecting pip\n",
      "  Downloading pip-23.2.1-py3-none-any.whl (2.1 MB)\n",
      "                                              0.0/2.1 MB ? eta -:--:--\n",
      "                                              0.0/2.1 MB ? eta -:--:--\n",
      "                                              0.0/2.1 MB 445.2 kB/s eta 0:00:05\n",
      "                                              0.0/2.1 MB 281.8 kB/s eta 0:00:08\n",
      "     -                                        0.1/2.1 MB 409.6 kB/s eta 0:00:05\n",
      "     -                                        0.1/2.1 MB 403.5 kB/s eta 0:00:05\n",
      "     --                                       0.1/2.1 MB 481.4 kB/s eta 0:00:05\n",
      "     ---                                      0.2/2.1 MB 618.3 kB/s eta 0:00:04\n",
      "     ----                                     0.2/2.1 MB 722.1 kB/s eta 0:00:03\n",
      "     -----                                    0.3/2.1 MB 770.1 kB/s eta 0:00:03\n",
      "     ------                                   0.4/2.1 MB 827.0 kB/s eta 0:00:03\n",
      "     -------                                  0.4/2.1 MB 859.0 kB/s eta 0:00:02\n",
      "     --------                                 0.5/2.1 MB 855.0 kB/s eta 0:00:02\n",
      "     ----------                               0.5/2.1 MB 911.0 kB/s eta 0:00:02\n",
      "     ----------                               0.6/2.1 MB 908.0 kB/s eta 0:00:02\n",
      "     -----------                              0.6/2.1 MB 921.0 kB/s eta 0:00:02\n",
      "     ------------                             0.7/2.1 MB 932.2 kB/s eta 0:00:02\n",
      "     --------------                           0.7/2.1 MB 969.4 kB/s eta 0:00:02\n",
      "     ---------------                          0.8/2.1 MB 977.7 kB/s eta 0:00:02\n",
      "     ---------------                          0.8/2.1 MB 989.4 kB/s eta 0:00:02\n",
      "     ----------------                         0.9/2.1 MB 983.0 kB/s eta 0:00:02\n",
      "     -----------------                        0.9/2.1 MB 994.6 kB/s eta 0:00:02\n",
      "     ------------------                       1.0/2.1 MB 1.0 MB/s eta 0:00:02\n",
      "     -------------------                      1.0/2.1 MB 1.0 MB/s eta 0:00:02\n",
      "     --------------------                     1.0/2.1 MB 1.0 MB/s eta 0:00:02\n",
      "     ---------------------                    1.1/2.1 MB 997.2 kB/s eta 0:00:01\n",
      "     ----------------------                   1.2/2.1 MB 992.1 kB/s eta 0:00:01\n",
      "     -----------------------                  1.2/2.1 MB 995.9 kB/s eta 0:00:01\n",
      "     ------------------------                 1.3/2.1 MB 1.0 MB/s eta 0:00:01\n",
      "     -------------------------                1.3/2.1 MB 1.0 MB/s eta 0:00:01\n",
      "     --------------------------               1.4/2.1 MB 1.0 MB/s eta 0:00:01\n",
      "     --------------------------               1.4/2.1 MB 1.0 MB/s eta 0:00:01\n",
      "     ---------------------------              1.5/2.1 MB 1.0 MB/s eta 0:00:01\n",
      "     -----------------------------            1.5/2.1 MB 1.0 MB/s eta 0:00:01\n",
      "     ------------------------------           1.6/2.1 MB 1.0 MB/s eta 0:00:01\n",
      "     -------------------------------          1.6/2.1 MB 1.0 MB/s eta 0:00:01\n",
      "     -------------------------------          1.6/2.1 MB 1.0 MB/s eta 0:00:01\n",
      "     --------------------------------         1.7/2.1 MB 1.0 MB/s eta 0:00:01\n",
      "     --------------------------------         1.7/2.1 MB 1.0 MB/s eta 0:00:01\n",
      "     ---------------------------------        1.7/2.1 MB 980.5 kB/s eta 0:00:01\n",
      "     ----------------------------------       1.8/2.1 MB 983.3 kB/s eta 0:00:01\n",
      "     -----------------------------------      1.8/2.1 MB 986.0 kB/s eta 0:00:01\n",
      "     ------------------------------------     1.9/2.1 MB 988.5 kB/s eta 0:00:01\n",
      "     -------------------------------------    1.9/2.1 MB 993.9 kB/s eta 0:00:01\n",
      "     --------------------------------------   2.0/2.1 MB 988.2 kB/s eta 0:00:01\n",
      "     --------------------------------------   2.0/2.1 MB 988.2 kB/s eta 0:00:01\n",
      "     ---------------------------------------  2.1/2.1 MB 988.3 kB/s eta 0:00:01\n",
      "     ---------------------------------------- 2.1/2.1 MB 984.3 kB/s eta 0:00:00\n",
      "Installing collected packages: pip\n",
      "  Attempting uninstall: pip\n",
      "    Found existing installation: pip 23.1.2\n",
      "    Uninstalling pip-23.1.2:\n",
      "      Successfully uninstalled pip-23.1.2\n",
      "Successfully installed pip-23.2.1\n",
      "Note: you may need to restart the kernel to use updated packages.\n"
     ]
    }
   ],
   "source": [
    "pip install --upgrade pip"
   ]
  },
  {
   "cell_type": "markdown",
   "id": "e4089f6c",
   "metadata": {},
   "source": [
    "#### 2.2 Importing NumPy\n",
    "'np' is and alias name for NumPy to prevent writting Numpy everytime in the code."
   ]
  },
  {
   "cell_type": "code",
   "execution_count": 13,
   "id": "343eef2d",
   "metadata": {},
   "outputs": [],
   "source": [
    "import numpy as np"
   ]
  },
  {
   "cell_type": "markdown",
   "id": "ae2c5895",
   "metadata": {},
   "source": [
    "# 3. NumPy Arrays\n",
    "#### 3.1 Creating NumPy Arrays\n"
   ]
  },
  {
   "cell_type": "code",
   "execution_count": 14,
   "id": "5417c762",
   "metadata": {},
   "outputs": [
    {
     "name": "stdout",
     "output_type": "stream",
     "text": [
      "[1 2 3 4 5]\n"
     ]
    }
   ],
   "source": [
    "# Using the numpy.array() function\n",
    "\n",
    "arr = np.array([1,2,3,4,5])\n",
    "print(arr)"
   ]
  },
  {
   "cell_type": "code",
   "execution_count": 18,
   "id": "ff47170c",
   "metadata": {},
   "outputs": [
    {
     "name": "stdout",
     "output_type": "stream",
     "text": [
      "[0 2 4 6 8]\n"
     ]
    }
   ],
   "source": [
    "# Using the numpy.arange() function: \n",
    "\n",
    "arr = np.arange(0,10,2)\n",
    "print(arr)"
   ]
  },
  {
   "cell_type": "code",
   "execution_count": 23,
   "id": "2dc0a790",
   "metadata": {},
   "outputs": [
    {
     "name": "stdout",
     "output_type": "stream",
     "text": [
      "[[0. 0. 0.]\n",
      " [0. 0. 0.]\n",
      " [0. 0. 0.]]\n",
      "\n",
      "[[1. 1. 1. 1. 1. 1.]\n",
      " [1. 1. 1. 1. 1. 1.]]\n"
     ]
    }
   ],
   "source": [
    "# Using the numpy.zeros() and numpy.ones() functions\n",
    "\n",
    "zeros = np.zeros((3,3))\n",
    "print(zeros)\n",
    "\n",
    "print()\n",
    " \n",
    "ones = np.ones((2,6))\n",
    "print(ones)"
   ]
  },
  {
   "cell_type": "markdown",
   "id": "50385c47",
   "metadata": {},
   "source": [
    "#### 3.2 Array Attributes\n",
    "\n",
    "* shape: Returns a tuple representing the size of each dimension of the array.\n",
    "\n",
    "* dtype: Returns the data type of the array elements.\n",
    "\n",
    "* ndim: Returns the number of array dimensions.\n",
    "\n",
    "* size: Returns the total number of elements in the array.\n",
    "\n",
    "* itemsize: Returns the size in bytes of each array element.\n"
   ]
  },
  {
   "cell_type": "code",
   "execution_count": 29,
   "id": "0f3e3bb4",
   "metadata": {},
   "outputs": [
    {
     "data": {
      "text/plain": [
       "(3, 3)"
      ]
     },
     "execution_count": 29,
     "metadata": {},
     "output_type": "execute_result"
    }
   ],
   "source": [
    "np.shape(zeros)"
   ]
  },
  {
   "cell_type": "code",
   "execution_count": 36,
   "id": "9e96bba3",
   "metadata": {},
   "outputs": [
    {
     "data": {
      "text/plain": [
       "dtype('int32')"
      ]
     },
     "execution_count": 36,
     "metadata": {},
     "output_type": "execute_result"
    }
   ],
   "source": [
    "arr.dtype"
   ]
  },
  {
   "cell_type": "code",
   "execution_count": 39,
   "id": "79a4b9fe",
   "metadata": {},
   "outputs": [
    {
     "data": {
      "text/plain": [
       "2"
      ]
     },
     "execution_count": 39,
     "metadata": {},
     "output_type": "execute_result"
    }
   ],
   "source": [
    "np.ndim(zeros)"
   ]
  },
  {
   "cell_type": "code",
   "execution_count": 33,
   "id": "a7b87865",
   "metadata": {},
   "outputs": [
    {
     "data": {
      "text/plain": [
       "9"
      ]
     },
     "execution_count": 33,
     "metadata": {},
     "output_type": "execute_result"
    }
   ],
   "source": [
    "np.size(zeros)"
   ]
  },
  {
   "cell_type": "code",
   "execution_count": 37,
   "id": "9cdd8602",
   "metadata": {},
   "outputs": [
    {
     "data": {
      "text/plain": [
       "4"
      ]
     },
     "execution_count": 37,
     "metadata": {},
     "output_type": "execute_result"
    }
   ],
   "source": [
    "arr.itemsize"
   ]
  },
  {
   "cell_type": "markdown",
   "id": "361cd9ad",
   "metadata": {},
   "source": [
    "#### 3.3 Indexing and Slicing Arrays\n"
   ]
  },
  {
   "cell_type": "code",
   "execution_count": 43,
   "id": "7d52a030",
   "metadata": {},
   "outputs": [
    {
     "data": {
      "text/plain": [
       "array([ 1,  3,  5,  7,  9, 11, 13, 15, 17, 19])"
      ]
     },
     "execution_count": 43,
     "metadata": {},
     "output_type": "execute_result"
    }
   ],
   "source": [
    "ar = np.arange(1,20,2)\n",
    "ar"
   ]
  },
  {
   "cell_type": "code",
   "execution_count": 44,
   "id": "f5d35f66",
   "metadata": {},
   "outputs": [
    {
     "data": {
      "text/plain": [
       "1"
      ]
     },
     "execution_count": 44,
     "metadata": {},
     "output_type": "execute_result"
    }
   ],
   "source": [
    "ar[0]"
   ]
  },
  {
   "cell_type": "code",
   "execution_count": 46,
   "id": "474c9060",
   "metadata": {},
   "outputs": [
    {
     "data": {
      "text/plain": [
       "19"
      ]
     },
     "execution_count": 46,
     "metadata": {},
     "output_type": "execute_result"
    }
   ],
   "source": [
    "ar[-1]"
   ]
  },
  {
   "cell_type": "code",
   "execution_count": 47,
   "id": "389b1ead",
   "metadata": {},
   "outputs": [
    {
     "data": {
      "text/plain": [
       "array([5, 7, 9])"
      ]
     },
     "execution_count": 47,
     "metadata": {},
     "output_type": "execute_result"
    }
   ],
   "source": [
    "ar[2:5]"
   ]
  },
  {
   "cell_type": "markdown",
   "id": "7443cbf0",
   "metadata": {},
   "source": [
    "#### 3.4 Array Operations \n"
   ]
  },
  {
   "cell_type": "code",
   "execution_count": 49,
   "id": "b5f0f407",
   "metadata": {},
   "outputs": [
    {
     "data": {
      "text/plain": [
       "array([ 5,  7,  9, 11, 13, 15, 17, 19])"
      ]
     },
     "execution_count": 49,
     "metadata": {},
     "output_type": "execute_result"
    }
   ],
   "source": [
    "ar1 = np.arange(5,20,2)\n",
    "ar1"
   ]
  },
  {
   "cell_type": "code",
   "execution_count": 51,
   "id": "abc1cdac",
   "metadata": {},
   "outputs": [
    {
     "data": {
      "text/plain": [
       "array([20, 22, 24, 26, 28, 30, 32, 34])"
      ]
     },
     "execution_count": 51,
     "metadata": {},
     "output_type": "execute_result"
    }
   ],
   "source": [
    "ar2 = np.arange(20,35,2)\n",
    "ar2"
   ]
  },
  {
   "cell_type": "code",
   "execution_count": 53,
   "id": "de47b7fa",
   "metadata": {},
   "outputs": [
    {
     "name": "stdout",
     "output_type": "stream",
     "text": [
      "[25 29 33 37 41 45 49 53]\n"
     ]
    }
   ],
   "source": [
    "# Add\n",
    "print(ar1+ar2)"
   ]
  },
  {
   "cell_type": "code",
   "execution_count": 58,
   "id": "aed9a075",
   "metadata": {},
   "outputs": [
    {
     "name": "stdout",
     "output_type": "stream",
     "text": [
      "[-15 -15 -15 -15 -15 -15 -15 -15]\n"
     ]
    }
   ],
   "source": [
    "# Subtraction\n",
    "print(ar1-ar2)"
   ]
  },
  {
   "cell_type": "code",
   "execution_count": 60,
   "id": "93aa0fb5",
   "metadata": {},
   "outputs": [
    {
     "name": "stdout",
     "output_type": "stream",
     "text": [
      "[100 154 216 286 364 450 544 646]\n"
     ]
    }
   ],
   "source": [
    "# Multiplication\n",
    "print(ar1*ar2)"
   ]
  },
  {
   "cell_type": "code",
   "execution_count": 62,
   "id": "d0277b29",
   "metadata": {},
   "outputs": [
    {
     "name": "stdout",
     "output_type": "stream",
     "text": [
      "[0.25       0.31818182 0.375      0.42307692 0.46428571 0.5\n",
      " 0.53125    0.55882353]\n"
     ]
    }
   ],
   "source": [
    "# Division\n",
    "print(ar1/ar2)"
   ]
  },
  {
   "cell_type": "code",
   "execution_count": 63,
   "id": "81639b20",
   "metadata": {},
   "outputs": [
    {
     "name": "stdout",
     "output_type": "stream",
     "text": [
      "[0 0 0 0 0 0 0 0]\n"
     ]
    }
   ],
   "source": [
    "# Division\n",
    "print(ar1//ar2)"
   ]
  },
  {
   "cell_type": "code",
   "execution_count": 64,
   "id": "ece5420c",
   "metadata": {},
   "outputs": [
    {
     "name": "stdout",
     "output_type": "stream",
     "text": [
      "[ 5  7  9 11 13 15 17 19]\n"
     ]
    }
   ],
   "source": [
    "# Mod\n",
    "print(ar1%ar2)"
   ]
  },
  {
   "cell_type": "markdown",
   "id": "c37234fa",
   "metadata": {},
   "source": [
    "#### 3.5 Broadcasting\n",
    "\n",
    "Allows operations between arrays having different shape"
   ]
  },
  {
   "cell_type": "code",
   "execution_count": 69,
   "id": "6f9826cd",
   "metadata": {},
   "outputs": [
    {
     "name": "stdout",
     "output_type": "stream",
     "text": [
      "[[ 4  8 12]\n",
      " [16 20 24]]\n"
     ]
    }
   ],
   "source": [
    "a = np.array([[1,2,3],[4,5,6]])\n",
    "scalar = 4\n",
    "\n",
    "print(a*scalar)"
   ]
  },
  {
   "cell_type": "markdown",
   "id": "1d9a46b0",
   "metadata": {},
   "source": [
    "# 4. Array Manipulation\n",
    "\n",
    "   #### 4.1 Reshaping Arrays\n",
    "   1. reshape()\n",
    "   2. flatten()\n",
    "   3. ravel()\n"
   ]
  },
  {
   "cell_type": "code",
   "execution_count": 70,
   "id": "783cc89d",
   "metadata": {},
   "outputs": [
    {
     "data": {
      "text/plain": [
       "array([[ 5,  7],\n",
       "       [ 9, 11],\n",
       "       [13, 15],\n",
       "       [17, 19]])"
      ]
     },
     "execution_count": 70,
     "metadata": {},
     "output_type": "execute_result"
    }
   ],
   "source": [
    "ar1.reshape(4,2)"
   ]
  },
  {
   "cell_type": "code",
   "execution_count": 72,
   "id": "52c571f7",
   "metadata": {},
   "outputs": [
    {
     "data": {
      "text/plain": [
       "array([20, 22, 24, 26, 28, 30, 32, 34])"
      ]
     },
     "execution_count": 72,
     "metadata": {},
     "output_type": "execute_result"
    }
   ],
   "source": [
    "ar2.flatten()"
   ]
  },
  {
   "cell_type": "code",
   "execution_count": 73,
   "id": "0dd3b818",
   "metadata": {},
   "outputs": [
    {
     "data": {
      "text/plain": [
       "array([ 5,  7,  9, 11, 13, 15, 17, 19])"
      ]
     },
     "execution_count": 73,
     "metadata": {},
     "output_type": "execute_result"
    }
   ],
   "source": [
    "ar1.ravel()"
   ]
  },
  {
   "cell_type": "markdown",
   "id": "38bbf27b",
   "metadata": {},
   "source": [
    "#### 4.2 Joining and Splitting Arrays"
   ]
  },
  {
   "cell_type": "code",
   "execution_count": 74,
   "id": "59300178",
   "metadata": {},
   "outputs": [],
   "source": [
    "a1 = np.array([1,2,3])\n",
    "a2 = np.array([4,5,6])"
   ]
  },
  {
   "cell_type": "code",
   "execution_count": 76,
   "id": "4cd50cf0",
   "metadata": {},
   "outputs": [
    {
     "data": {
      "text/plain": [
       "array([1, 2, 3, 4, 5, 6])"
      ]
     },
     "execution_count": 76,
     "metadata": {},
     "output_type": "execute_result"
    }
   ],
   "source": [
    "concat = np.concatenate((a1,a2))\n",
    "concat"
   ]
  },
  {
   "cell_type": "markdown",
   "id": "f6366a60",
   "metadata": {},
   "source": [
    "####  4.3 Changing Array Data Types \n",
    "\n",
    "* astype()"
   ]
  },
  {
   "cell_type": "code",
   "execution_count": 78,
   "id": "4017f880",
   "metadata": {},
   "outputs": [
    {
     "data": {
      "text/plain": [
       "array([1., 2., 3., 4., 5.])"
      ]
     },
     "execution_count": 78,
     "metadata": {},
     "output_type": "execute_result"
    }
   ],
   "source": [
    "arr = np.array([1,2,3,4,5],dtype = np.float64)\n",
    "arr"
   ]
  },
  {
   "cell_type": "code",
   "execution_count": 80,
   "id": "5095455a",
   "metadata": {},
   "outputs": [
    {
     "data": {
      "text/plain": [
       "array([1, 2, 3, 4, 5])"
      ]
     },
     "execution_count": 80,
     "metadata": {},
     "output_type": "execute_result"
    }
   ],
   "source": [
    "new = arr.astype(np.int32)\n",
    "new"
   ]
  },
  {
   "cell_type": "code",
   "execution_count": 83,
   "id": "a5772e41",
   "metadata": {},
   "outputs": [
    {
     "data": {
      "text/plain": [
       "dtype('int32')"
      ]
     },
     "execution_count": 83,
     "metadata": {},
     "output_type": "execute_result"
    }
   ],
   "source": [
    "new.dtype"
   ]
  },
  {
   "cell_type": "markdown",
   "id": "2802fa34",
   "metadata": {},
   "source": [
    "#### 4.4 Sorting and Searching Arrays\n",
    "\n",
    "1. Sorting\n",
    "* sort()\n",
    "* argsort()\n",
    "\n",
    "2. Searching\n",
    "* where() --> returns indices\n",
    "* seachsorted()"
   ]
  },
  {
   "cell_type": "code",
   "execution_count": 85,
   "id": "54ac5781",
   "metadata": {},
   "outputs": [
    {
     "data": {
      "text/plain": [
       "array([1, 2, 3, 4, 5])"
      ]
     },
     "execution_count": 85,
     "metadata": {},
     "output_type": "execute_result"
    }
   ],
   "source": [
    "arr = np.array([4,2,1,3,5])\n",
    "new_SortedArray = np.sort(arr)\n",
    "new_SortedArray"
   ]
  },
  {
   "cell_type": "code",
   "execution_count": 93,
   "id": "9cc90091",
   "metadata": {},
   "outputs": [
    {
     "data": {
      "text/plain": [
       "(array([1, 2], dtype=int64),)"
      ]
     },
     "execution_count": 93,
     "metadata": {},
     "output_type": "execute_result"
    }
   ],
   "source": [
    "b = np.where(arr<3)\n",
    "b"
   ]
  },
  {
   "cell_type": "markdown",
   "id": "bc340c0a",
   "metadata": {},
   "source": [
    "# 5. Mathematical Functions\n",
    "    \n",
    "#### 5.1 Basic Mathematical Operations\n",
    "1. add()\n",
    "2. subtract()\n",
    "3. multiply()\n",
    "4. divide()\n"
   ]
  },
  {
   "cell_type": "code",
   "execution_count": 99,
   "id": "e689fd3e",
   "metadata": {},
   "outputs": [],
   "source": [
    "arr = np.array([1,2,3,4,5,6,7,8,9,10])"
   ]
  },
  {
   "cell_type": "code",
   "execution_count": 100,
   "id": "e462dcbf",
   "metadata": {},
   "outputs": [
    {
     "data": {
      "text/plain": [
       "array([ 6,  7,  8,  9, 10, 11, 12, 13, 14, 15])"
      ]
     },
     "execution_count": 100,
     "metadata": {},
     "output_type": "execute_result"
    }
   ],
   "source": [
    "# add()\n",
    "arr+5"
   ]
  },
  {
   "cell_type": "code",
   "execution_count": 101,
   "id": "a0851ffc",
   "metadata": {},
   "outputs": [
    {
     "data": {
      "text/plain": [
       "array([0, 1, 2, 3, 4, 5, 6, 7, 8, 9])"
      ]
     },
     "execution_count": 101,
     "metadata": {},
     "output_type": "execute_result"
    }
   ],
   "source": [
    "# subtract()\n",
    "arr-1"
   ]
  },
  {
   "cell_type": "code",
   "execution_count": 102,
   "id": "b30080a3",
   "metadata": {},
   "outputs": [
    {
     "data": {
      "text/plain": [
       "array([ 5, 10, 15, 20, 25, 30, 35, 40, 45, 50])"
      ]
     },
     "execution_count": 102,
     "metadata": {},
     "output_type": "execute_result"
    }
   ],
   "source": [
    "# multiply()\n",
    "arr*5"
   ]
  },
  {
   "cell_type": "code",
   "execution_count": 103,
   "id": "e70e963c",
   "metadata": {},
   "outputs": [
    {
     "data": {
      "text/plain": [
       "array([0.5, 1. , 1.5, 2. , 2.5, 3. , 3.5, 4. , 4.5, 5. ])"
      ]
     },
     "execution_count": 103,
     "metadata": {},
     "output_type": "execute_result"
    }
   ],
   "source": [
    "# divide()\n",
    "arr/2"
   ]
  },
  {
   "cell_type": "markdown",
   "id": "c4a3ad66",
   "metadata": {},
   "source": [
    "####    5.2 Trigonometric Functions\n",
    "\n",
    "1. sin()\n",
    "2. cos()\n",
    "3. tan()\n",
    "4. arcsin()\n",
    "5. arccos()\n",
    "6. arctan()\n"
   ]
  },
  {
   "cell_type": "code",
   "execution_count": 105,
   "id": "89559e1a",
   "metadata": {},
   "outputs": [
    {
     "data": {
      "text/plain": [
       "array([ 0.84147098,  0.90929743,  0.14112001, -0.7568025 , -0.95892427,\n",
       "       -0.2794155 ,  0.6569866 ,  0.98935825,  0.41211849, -0.54402111])"
      ]
     },
     "execution_count": 105,
     "metadata": {},
     "output_type": "execute_result"
    }
   ],
   "source": [
    "# sin()\n",
    "np.sin(arr)"
   ]
  },
  {
   "cell_type": "code",
   "execution_count": 106,
   "id": "d31448b3",
   "metadata": {},
   "outputs": [
    {
     "data": {
      "text/plain": [
       "array([ 0.54030231, -0.41614684, -0.9899925 , -0.65364362,  0.28366219,\n",
       "        0.96017029,  0.75390225, -0.14550003, -0.91113026, -0.83907153])"
      ]
     },
     "execution_count": 106,
     "metadata": {},
     "output_type": "execute_result"
    }
   ],
   "source": [
    "# cos()\n",
    "np.cos(arr)"
   ]
  },
  {
   "cell_type": "code",
   "execution_count": 107,
   "id": "9c0e977c",
   "metadata": {},
   "outputs": [
    {
     "data": {
      "text/plain": [
       "array([ 1.55740772, -2.18503986, -0.14254654,  1.15782128, -3.38051501,\n",
       "       -0.29100619,  0.87144798, -6.79971146, -0.45231566,  0.64836083])"
      ]
     },
     "execution_count": 107,
     "metadata": {},
     "output_type": "execute_result"
    }
   ],
   "source": [
    "np.tan(arr)"
   ]
  },
  {
   "cell_type": "markdown",
   "id": "4867aa69",
   "metadata": {},
   "source": [
    "#### 5.3 Exponential and Logarithmic Functions\n",
    "1. exp()\n",
    "2. log()\n",
    "3. log10()\n"
   ]
  },
  {
   "cell_type": "code",
   "execution_count": 110,
   "id": "2ae7452c",
   "metadata": {},
   "outputs": [
    {
     "data": {
      "text/plain": [
       "array([2.71828183e+00, 2.20264658e+04, 2.68811714e+43])"
      ]
     },
     "execution_count": 110,
     "metadata": {},
     "output_type": "execute_result"
    }
   ],
   "source": [
    "a = np.array([1,10,100])\n",
    "\n",
    "np.exp(a)"
   ]
  },
  {
   "cell_type": "code",
   "execution_count": 112,
   "id": "37751b7e",
   "metadata": {},
   "outputs": [
    {
     "data": {
      "text/plain": [
       "array([0.        , 2.30258509, 4.60517019])"
      ]
     },
     "execution_count": 112,
     "metadata": {},
     "output_type": "execute_result"
    }
   ],
   "source": [
    "np.log(a)"
   ]
  },
  {
   "cell_type": "code",
   "execution_count": 111,
   "id": "1de924a4",
   "metadata": {},
   "outputs": [
    {
     "data": {
      "text/plain": [
       "array([0., 1., 2.])"
      ]
     },
     "execution_count": 111,
     "metadata": {},
     "output_type": "execute_result"
    }
   ],
   "source": [
    "np.log10(a)"
   ]
  },
  {
   "cell_type": "markdown",
   "id": "397935a4",
   "metadata": {},
   "source": [
    "#### 5.4 Statistical Functions\n",
    "1. min()\n",
    "2. max()\n",
    "3. mean()\n",
    "4. median()\n",
    "5. std()\n",
    "6. var()\n"
   ]
  },
  {
   "cell_type": "code",
   "execution_count": 117,
   "id": "d4c329a1",
   "metadata": {},
   "outputs": [
    {
     "data": {
      "text/plain": [
       "1"
      ]
     },
     "execution_count": 117,
     "metadata": {},
     "output_type": "execute_result"
    }
   ],
   "source": [
    "arr = np.arange(1,10)\n",
    "np.min(arr)"
   ]
  },
  {
   "cell_type": "code",
   "execution_count": 118,
   "id": "4b0854c0",
   "metadata": {},
   "outputs": [
    {
     "data": {
      "text/plain": [
       "9"
      ]
     },
     "execution_count": 118,
     "metadata": {},
     "output_type": "execute_result"
    }
   ],
   "source": [
    "np.max(arr)"
   ]
  },
  {
   "cell_type": "code",
   "execution_count": 120,
   "id": "25ca9140",
   "metadata": {},
   "outputs": [
    {
     "data": {
      "text/plain": [
       "5.0"
      ]
     },
     "execution_count": 120,
     "metadata": {},
     "output_type": "execute_result"
    }
   ],
   "source": [
    "np.mean(arr)"
   ]
  },
  {
   "cell_type": "code",
   "execution_count": 121,
   "id": "caa80038",
   "metadata": {},
   "outputs": [
    {
     "data": {
      "text/plain": [
       "5.0"
      ]
     },
     "execution_count": 121,
     "metadata": {},
     "output_type": "execute_result"
    }
   ],
   "source": [
    "np.median(arr)"
   ]
  },
  {
   "cell_type": "code",
   "execution_count": 122,
   "id": "e86ca455",
   "metadata": {},
   "outputs": [
    {
     "data": {
      "text/plain": [
       "2.581988897471611"
      ]
     },
     "execution_count": 122,
     "metadata": {},
     "output_type": "execute_result"
    }
   ],
   "source": [
    "np.std(arr)"
   ]
  },
  {
   "cell_type": "code",
   "execution_count": 123,
   "id": "87ad7b8f",
   "metadata": {},
   "outputs": [
    {
     "data": {
      "text/plain": [
       "6.666666666666667"
      ]
     },
     "execution_count": 123,
     "metadata": {},
     "output_type": "execute_result"
    }
   ],
   "source": [
    "np.var(arr)"
   ]
  },
  {
   "cell_type": "markdown",
   "id": "d2f1b35b",
   "metadata": {},
   "source": [
    "#### 5.5 Linear Algebra Operations\n",
    "1. dot()\n",
    "2. transpose()\n",
    "3. inverse()\n",
    "4. eig()"
   ]
  },
  {
   "cell_type": "code",
   "execution_count": 126,
   "id": "e43bdffe",
   "metadata": {},
   "outputs": [
    {
     "data": {
      "text/plain": [
       "array([[ 30,  36,  42],\n",
       "       [ 66,  81,  96],\n",
       "       [102, 126, 150]])"
      ]
     },
     "execution_count": 126,
     "metadata": {},
     "output_type": "execute_result"
    }
   ],
   "source": [
    "mat = np.array([[1,2,3],[4,5,6],[7,8,9]])\n",
    "\n",
    "np.dot(mat,mat)"
   ]
  },
  {
   "cell_type": "code",
   "execution_count": 127,
   "id": "80a33c57",
   "metadata": {},
   "outputs": [
    {
     "data": {
      "text/plain": [
       "array([[1, 4, 7],\n",
       "       [2, 5, 8],\n",
       "       [3, 6, 9]])"
      ]
     },
     "execution_count": 127,
     "metadata": {},
     "output_type": "execute_result"
    }
   ],
   "source": [
    "np.transpose(mat)"
   ]
  },
  {
   "cell_type": "markdown",
   "id": "f874efd5",
   "metadata": {},
   "source": [
    "# 6. Array Input and Output\n",
    "#### 6.1 Saving and Loading Arrays\n"
   ]
  },
  {
   "cell_type": "code",
   "execution_count": 131,
   "id": "21e0057a",
   "metadata": {},
   "outputs": [
    {
     "data": {
      "text/plain": [
       "array([1, 2, 3, 4, 5])"
      ]
     },
     "execution_count": 131,
     "metadata": {},
     "output_type": "execute_result"
    }
   ],
   "source": [
    "ar = np.array([1,2,3,4,5])\n",
    "\n",
    "np.save('array.npy',ar)\n",
    "\n",
    "loader_arr = np.load('array.npy')\n",
    "\n",
    "loader_arr"
   ]
  },
  {
   "cell_type": "markdown",
   "id": "0dfed6ac",
   "metadata": {},
   "source": [
    "#### 6.2 Text File Input and Output"
   ]
  },
  {
   "cell_type": "code",
   "execution_count": 134,
   "id": "7aec0c68",
   "metadata": {},
   "outputs": [
    {
     "data": {
      "text/plain": [
       "array([1., 2., 3., 4., 5.])"
      ]
     },
     "execution_count": 134,
     "metadata": {},
     "output_type": "execute_result"
    }
   ],
   "source": [
    "ar = np.array([1,2,3,4,5])\n",
    "\n",
    "np.savetxt('array.txt',ar)\n",
    "\n",
    "loader_arr = np.loadtxt('array.txt')\n",
    "\n",
    "loader_arr"
   ]
  },
  {
   "cell_type": "markdown",
   "id": "602c3362",
   "metadata": {},
   "source": [
    "#### 6.3 Binary File Input and Output\n",
    "1. np.save()\n",
    "2. np.load()"
   ]
  },
  {
   "cell_type": "code",
   "execution_count": 135,
   "id": "0cb50c88",
   "metadata": {},
   "outputs": [
    {
     "data": {
      "text/plain": [
       "array([1, 2, 3, 4, 5])"
      ]
     },
     "execution_count": 135,
     "metadata": {},
     "output_type": "execute_result"
    }
   ],
   "source": [
    "ar = np.array([1,2,3,4,5])\n",
    "\n",
    "np.save('array.npy',ar)\n",
    "\n",
    "loader_arr = np.load('array.npy')\n",
    "\n",
    "loader_arr"
   ]
  },
  {
   "cell_type": "markdown",
   "id": "5e96ede9",
   "metadata": {},
   "source": [
    "#### 6.4 Compressed File Input and Output\n",
    "NumPy allows you to save and load compressed arrays using\n",
    "np.savez() and np.load() with the .npz file extension. This is\n",
    "useful for saving memory and reducing storage space.\n"
   ]
  },
  {
   "cell_type": "code",
   "execution_count": 136,
   "id": "a865315e",
   "metadata": {},
   "outputs": [],
   "source": [
    "x = np.array([1,2,3])\n",
    "y = np.array([4,5,6])"
   ]
  },
  {
   "cell_type": "code",
   "execution_count": 139,
   "id": "e83337b5",
   "metadata": {},
   "outputs": [
    {
     "name": "stdout",
     "output_type": "stream",
     "text": [
      "[1 2 3]\n",
      "[4 5 6]\n"
     ]
    }
   ],
   "source": [
    "np.savez('array.npz',x=x,y=y)\n",
    "load_data = np.load('array.npz')\n",
    "\n",
    "print(load_data['x'])\n",
    "print(load_data['y'])"
   ]
  },
  {
   "cell_type": "markdown",
   "id": "66f237dd",
   "metadata": {},
   "source": [
    "# 7. Advanced NumPy Features\n",
    "\n",
    "#### 7.1 Broadcasting in Depth\n",
    "Broadcasting is a powerful feature of NumPy that allows arrays\n",
    "of different shapes to be combined in arithmetic operations.\n",
    "NumPy automatically applies broadcasting rules to make the\n",
    "arrays compatible for the operation.\n"
   ]
  },
  {
   "cell_type": "code",
   "execution_count": 157,
   "id": "4a58432a",
   "metadata": {},
   "outputs": [
    {
     "data": {
      "text/plain": [
       "array([[11, 22, 33],\n",
       "       [14, 25, 36]])"
      ]
     },
     "execution_count": 157,
     "metadata": {},
     "output_type": "execute_result"
    }
   ],
   "source": [
    "c = np.array([[1,2,3],[4,5,6]])\n",
    "d = np.array([10,20,30]) \n",
    "\n",
    "result = c + d \n",
    "result"
   ]
  },
  {
   "cell_type": "markdown",
   "id": "af6f6b6b",
   "metadata": {},
   "source": [
    "#### 7.2 Array Manipulation Tricks"
   ]
  },
  {
   "cell_type": "code",
   "execution_count": 162,
   "id": "88f08226",
   "metadata": {},
   "outputs": [
    {
     "data": {
      "text/plain": [
       "array([[1, 2, 3],\n",
       "       [4, 5, 6]])"
      ]
     },
     "execution_count": 162,
     "metadata": {},
     "output_type": "execute_result"
    }
   ],
   "source": [
    "c = np.array([[1,2,3],[4,5,6]])\n",
    "\n",
    "transposed = c.T\n",
    "repeated = np.repeat(c,2,axis = 0)\n",
    "stacked = np.stack((c,c),axis=1)\n",
    "c"
   ]
  },
  {
   "cell_type": "code",
   "execution_count": 161,
   "id": "95297f02",
   "metadata": {},
   "outputs": [
    {
     "data": {
      "text/plain": [
       "array([[1, 4],\n",
       "       [2, 5],\n",
       "       [3, 6]])"
      ]
     },
     "execution_count": 161,
     "metadata": {},
     "output_type": "execute_result"
    }
   ],
   "source": [
    "transposed"
   ]
  },
  {
   "cell_type": "code",
   "execution_count": 163,
   "id": "8b78d209",
   "metadata": {},
   "outputs": [
    {
     "data": {
      "text/plain": [
       "array([[1, 2, 3],\n",
       "       [1, 2, 3],\n",
       "       [4, 5, 6],\n",
       "       [4, 5, 6]])"
      ]
     },
     "execution_count": 163,
     "metadata": {},
     "output_type": "execute_result"
    }
   ],
   "source": [
    "repeated"
   ]
  },
  {
   "cell_type": "code",
   "execution_count": 165,
   "id": "966811ba",
   "metadata": {},
   "outputs": [
    {
     "data": {
      "text/plain": [
       "array([[[1, 2, 3],\n",
       "        [1, 2, 3]],\n",
       "\n",
       "       [[4, 5, 6],\n",
       "        [4, 5, 6]]])"
      ]
     },
     "execution_count": 165,
     "metadata": {},
     "output_type": "execute_result"
    }
   ],
   "source": [
    "stacked"
   ]
  },
  {
   "cell_type": "markdown",
   "id": "887693ae",
   "metadata": {},
   "source": [
    "#### 7.3 Fancy Indexing and Boolean Masking\n",
    "c = np.array([[1,2,3],[4,5,6]])"
   ]
  },
  {
   "cell_type": "code",
   "execution_count": 169,
   "id": "9df9a8e6",
   "metadata": {},
   "outputs": [
    {
     "name": "stdout",
     "output_type": "stream",
     "text": [
      "[1 3 5]\n"
     ]
    }
   ],
   "source": [
    "e = np.array([1,2,3,4,5])\n",
    "\n",
    "indices = np.array([0,2,4])\n",
    "print(e[indices])\n"
   ]
  },
  {
   "cell_type": "code",
   "execution_count": 171,
   "id": "5d98c4fb",
   "metadata": {},
   "outputs": [
    {
     "data": {
      "text/plain": [
       "array([False, False,  True,  True,  True])"
      ]
     },
     "execution_count": 171,
     "metadata": {},
     "output_type": "execute_result"
    }
   ],
   "source": [
    "mask = e > 2\n",
    "mask"
   ]
  },
  {
   "cell_type": "markdown",
   "id": "c192ac22",
   "metadata": {},
   "source": [
    "#### 7.4 Structured Arrays"
   ]
  },
  {
   "cell_type": "code",
   "execution_count": 175,
   "id": "7833100d",
   "metadata": {},
   "outputs": [
    {
     "name": "stdout",
     "output_type": "stream",
     "text": [
      "['John' 'Alice']\n",
      "[25 30]\n",
      "[5000. 6000.]\n"
     ]
    }
   ],
   "source": [
    "dt = np.dtype([('name',np.str_,16),('age',np.int32),('salary',np.float64)])\n",
    "arr = np.array([('John',25,5000.0),('Alice',30,6000.0)], dtype=dt)\n",
    "\n",
    "print(arr['name'])\n",
    "print(arr['age'])\n",
    "print(arr['salary'])"
   ]
  },
  {
   "cell_type": "markdown",
   "id": "d0a253a4",
   "metadata": {},
   "source": [
    "#### 7.5 Universal Functions"
   ]
  },
  {
   "cell_type": "code",
   "execution_count": 178,
   "id": "b3f9edf1",
   "metadata": {},
   "outputs": [
    {
     "name": "stdout",
     "output_type": "stream",
     "text": [
      "[3 4 5]\n"
     ]
    }
   ],
   "source": [
    "a = np.array([1,2,3])\n",
    "\n",
    "print(np.add(a,2))"
   ]
  },
  {
   "cell_type": "code",
   "execution_count": 179,
   "id": "45322091",
   "metadata": {},
   "outputs": [
    {
     "name": "stdout",
     "output_type": "stream",
     "text": [
      "[ 5 10 15]\n"
     ]
    }
   ],
   "source": [
    "print(np.multiply(a,5))"
   ]
  },
  {
   "cell_type": "code",
   "execution_count": 180,
   "id": "116c926b",
   "metadata": {},
   "outputs": [
    {
     "name": "stdout",
     "output_type": "stream",
     "text": [
      "[1.         1.41421356 1.73205081]\n"
     ]
    }
   ],
   "source": [
    "print(np.sqrt(a))"
   ]
  },
  {
   "cell_type": "markdown",
   "id": "9772b8d6",
   "metadata": {},
   "source": [
    "# 8. Performance Tips and Best Practices\n",
    "    \n",
    "#### 8.1 Vectorization"
   ]
  },
  {
   "cell_type": "code",
   "execution_count": 144,
   "id": "27eb3232",
   "metadata": {},
   "outputs": [
    {
     "data": {
      "text/plain": [
       "array([5., 7., 9.])"
      ]
     },
     "execution_count": 144,
     "metadata": {},
     "output_type": "execute_result"
    }
   ],
   "source": [
    "# Non Vectorised Approach\n",
    "\n",
    "p = np.array([1,2,3])\n",
    "q = np.array([4,5,6])\n",
    "result = np.zeros(3)\n",
    "\n",
    "for i in range(3):\n",
    "    result[i] = p[i] + q[i]\n",
    "    \n",
    "result"
   ]
  },
  {
   "cell_type": "code",
   "execution_count": 145,
   "id": "2c4534a1",
   "metadata": {},
   "outputs": [
    {
     "data": {
      "text/plain": [
       "array([5, 7, 9])"
      ]
     },
     "execution_count": 145,
     "metadata": {},
     "output_type": "execute_result"
    }
   ],
   "source": [
    "# Vectorised Approach\n",
    "\n",
    "result = p + q\n",
    "\n",
    "result"
   ]
  },
  {
   "cell_type": "markdown",
   "id": "e8e65d81",
   "metadata": {},
   "source": [
    "#### 8.2 Memory Efficiency\n"
   ]
  },
  {
   "cell_type": "code",
   "execution_count": 152,
   "id": "012785c9",
   "metadata": {},
   "outputs": [],
   "source": [
    "p = np.array([1,2,3]) \n",
    "q = p \n",
    "\n",
    "view = p.view()  # no additional memory\n",
    "\n",
    "copy = p.copy()  # using additional memory"
   ]
  },
  {
   "cell_type": "code",
   "execution_count": 150,
   "id": "77c3ea5a",
   "metadata": {},
   "outputs": [
    {
     "data": {
      "text/plain": [
       "array([1, 2, 3])"
      ]
     },
     "execution_count": 150,
     "metadata": {},
     "output_type": "execute_result"
    }
   ],
   "source": [
    "view"
   ]
  },
  {
   "cell_type": "code",
   "execution_count": 151,
   "id": "30ba92bc",
   "metadata": {},
   "outputs": [
    {
     "data": {
      "text/plain": [
       "array([1, 2, 3])"
      ]
     },
     "execution_count": 151,
     "metadata": {},
     "output_type": "execute_result"
    }
   ],
   "source": [
    "copy"
   ]
  },
  {
   "cell_type": "markdown",
   "id": "21d2fd7e",
   "metadata": {},
   "source": [
    "####   8.3 Use NumPy Functions Instead of Loops"
   ]
  },
  {
   "cell_type": "code",
   "execution_count": 155,
   "id": "2c7ec12c",
   "metadata": {},
   "outputs": [
    {
     "data": {
      "text/plain": [
       "15"
      ]
     },
     "execution_count": 155,
     "metadata": {},
     "output_type": "execute_result"
    }
   ],
   "source": [
    "s = np.array([1,2,3,4,5])\n",
    "# Non Vectorised Approach\n",
    "total = 0 \n",
    "for num in s:\n",
    "    total+=num\n",
    "    \n",
    "total"
   ]
  },
  {
   "cell_type": "code",
   "execution_count": 156,
   "id": "acf62fcb",
   "metadata": {},
   "outputs": [
    {
     "data": {
      "text/plain": [
       "15"
      ]
     },
     "execution_count": 156,
     "metadata": {},
     "output_type": "execute_result"
    }
   ],
   "source": [
    "# Vectorised Approach\n",
    "total = np.sum(s)\n",
    "total"
   ]
  },
  {
   "cell_type": "markdown",
   "id": "e9a188fb",
   "metadata": {},
   "source": [
    "# 9. Conclusion\n"
   ]
  },
  {
   "cell_type": "markdown",
   "id": "f219e8a5",
   "metadata": {},
   "source": [
    "NumPy is a powerful library for data science, providing\n",
    "efficient and flexible data structures and functions for\n",
    "numerical computing.\n",
    "\n",
    "With this knowledge, you can leverage NumPy\n",
    "to perform various data science tasks efficiently and\n",
    "effectively. \n",
    "\n",
    "Happy coding!!"
   ]
  }
 ],
 "metadata": {
  "kernelspec": {
   "display_name": "Python 3 (ipykernel)",
   "language": "python",
   "name": "python3"
  },
  "language_info": {
   "codemirror_mode": {
    "name": "ipython",
    "version": 3
   },
   "file_extension": ".py",
   "mimetype": "text/x-python",
   "name": "python",
   "nbconvert_exporter": "python",
   "pygments_lexer": "ipython3",
   "version": "3.11.3"
  }
 },
 "nbformat": 4,
 "nbformat_minor": 5
}
