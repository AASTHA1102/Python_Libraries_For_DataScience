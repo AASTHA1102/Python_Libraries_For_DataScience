{
 "cells": [
  {
   "cell_type": "markdown",
   "id": "35480dab",
   "metadata": {},
   "source": [
    "# PANDAS"
   ]
  },
  {
   "cell_type": "markdown",
   "id": "e01149e9",
   "metadata": {},
   "source": [
    "### CONTENTS\n",
    "\n",
    "## 1. Introduction to Pandas\n",
    "    1.1 What is Pandas?\n",
    "    1.2 Why Use Pandas?\n",
    "## 2. Installing and Importing Pandas\n",
    "    2.1 Installation via Anaconda\n",
    "    2.2 Installation via pip\n",
    "    2.3 Importing Pandas\n",
    "## 3. Data Structures in Pandas\n",
    "    3.1 Series\n",
    "    3.2 DataFrame\n",
    "## 4. Reading and Writing Data\n",
    "    4.1 Reading CSV Files\n",
    "    4.2 Writing CSV Files\n",
    "    4.3 Reading Excel Files\n",
    "    4.4 Writing Excel Files\n",
    "## 5. Data Manipulation\n",
    "    5.1 Indexing and Selection\n",
    "    5.2 Filtering Data\n",
    "    5.3 Sorting Data\n",
    "    5.4 Aggregating Data\n",
    "    5.5 Handling Missing Data\n",
    "## 6. Data Cleaning\n",
    "    6.1 Removing Duplicates\n",
    "    6.2 Renaming Columns\n",
    "    6.3 Handling Null Values\n",
    "    6.4 Changing Data Types\n",
    "## 7. Data Visualization\n",
    "    7.1 Line Plots\n",
    "    7.2 Bar Plots\n",
    "    7.3 Scatter Plots\n",
    "    7.4 Histograms\n",
    "    7.5 Box Plots\n",
    "## 8. Time Series Analysis\n",
    "    8.1 Creating Time Series Data\n",
    "    8.2 Resampling and Frequency Conversion\n",
    "    8.3 Shifting and Lagging\n",
    "    8.4 Rolling Window Functions\n",
    "## 9. Conclusion\n",
    "\n",
    "*********************************************************************"
   ]
  },
  {
   "cell_type": "markdown",
   "id": "3d55f4d6",
   "metadata": {},
   "source": [
    "# 1. Introduction to PANDAS\n",
    "#### 1.1 What is Pandas?\n",
    "Pandas is an open-source library in Python that provides data\n",
    "manipulation and analysis tools. It is built on top of NumPy and\n",
    "provides easy-to-use data structures and data analysis\n",
    "functions. Pandas is widely used in the field of data science for\n",
    "tasks such as data cleaning, data transformation, data\n",
    "visualization, and data analysis.\n",
    "#### 1.2 Why Use Pandas?\n",
    "* Easy handling of structured data: Pandas provides powerful data structures, such as Series and DataFrame, that allow for easy manipulation and analysis of structured data.\n",
    "* Data alignment and integration: Pandas can handle datafrom various sources and align them based on commonindices or column names, making it easy to integrate data from different sources.\n",
    "* Efficient data manipulation: Pandas provides vectorized operations and optimized algorithms, which significantly speed up data manipulation tasks compared to traditional Python methods.\n",
    "* Missing data handling: Pandas offers flexible tools for handling missing data, allowing users to either drop or fill in missing values.\n",
    "* Data visualization: Pandas integrates well with popular data visualization libraries, such as Matplotlib and Seaborn,enabling the creation of insightful visualizations.\n"
   ]
  },
  {
   "cell_type": "markdown",
   "id": "ba542bb3",
   "metadata": {},
   "source": [
    "# 2. Installing and Importing Pandas\n",
    "\n",
    "#### 2.2 Installation via pip\n",
    "      pip install pandas\n",
    "#### 2.3 Importing Pandas\n",
    "      import pandas as pd"
   ]
  },
  {
   "cell_type": "code",
   "execution_count": 1,
   "id": "e67804e7",
   "metadata": {},
   "outputs": [
    {
     "name": "stdout",
     "output_type": "stream",
     "text": [
      "Requirement already satisfied: pandas in c:\\users\\aasth\\appdata\\local\\programs\\python\\python311\\lib\\site-packages (2.0.1)\n",
      "Requirement already satisfied: python-dateutil>=2.8.2 in c:\\users\\aasth\\appdata\\local\\programs\\python\\python311\\lib\\site-packages (from pandas) (2.8.2)\n",
      "Requirement already satisfied: pytz>=2020.1 in c:\\users\\aasth\\appdata\\local\\programs\\python\\python311\\lib\\site-packages (from pandas) (2023.3)\n",
      "Requirement already satisfied: tzdata>=2022.1 in c:\\users\\aasth\\appdata\\local\\programs\\python\\python311\\lib\\site-packages (from pandas) (2023.3)\n",
      "Requirement already satisfied: numpy>=1.21.0 in c:\\users\\aasth\\appdata\\local\\programs\\python\\python311\\lib\\site-packages (from pandas) (1.24.3)\n",
      "Requirement already satisfied: six>=1.5 in c:\\users\\aasth\\appdata\\local\\programs\\python\\python311\\lib\\site-packages (from python-dateutil>=2.8.2->pandas) (1.16.0)\n",
      "Note: you may need to restart the kernel to use updated packages.\n"
     ]
    }
   ],
   "source": [
    "pip install pandas"
   ]
  },
  {
   "cell_type": "markdown",
   "id": "1e4d2fba",
   "metadata": {},
   "source": [
    "# 3. Data Structures in Pandas\n",
    "   #### 3.1 Series\n",
    "  "
   ]
  },
  {
   "cell_type": "code",
   "execution_count": 2,
   "id": "fb8062fe",
   "metadata": {},
   "outputs": [
    {
     "data": {
      "text/plain": [
       "0    10\n",
       "1    20\n",
       "2    30\n",
       "3    40\n",
       "4    50\n",
       "dtype: int64"
      ]
     },
     "execution_count": 2,
     "metadata": {},
     "output_type": "execute_result"
    }
   ],
   "source": [
    "import pandas as pd\n",
    "import numpy as np\n",
    "\n",
    "# Creating Series from a list\n",
    "data = [10, 20, 30, 40, 50]\n",
    "series = pd.Series(data)\n",
    "series"
   ]
  },
  {
   "cell_type": "markdown",
   "id": "01952deb",
   "metadata": {},
   "source": [
    " #### 3.2 DataFrame\n",
    "  "
   ]
  },
  {
   "cell_type": "code",
   "execution_count": 6,
   "id": "6c86bbeb",
   "metadata": {},
   "outputs": [
    {
     "name": "stdout",
     "output_type": "stream",
     "text": [
      "   Name  Age      City\n",
      "0  John   25  New York\n",
      "1  Jane   30    London\n",
      "2  Mike   35     Paris\n"
     ]
    }
   ],
   "source": [
    "data = { 'Name' : ['John','Jane','Mike'],\n",
    "        'Age' : [25, 30, 35],\n",
    "        'City' : ['New York', 'London', 'Paris']}\n",
    "\n",
    "df = pd.DataFrame(data)\n",
    "print(df)"
   ]
  },
  {
   "cell_type": "markdown",
   "id": "c41b8f69",
   "metadata": {},
   "source": [
    "# Reading and Writing Data\n",
    "#### 4.1 Reading CSV Files\n"
   ]
  },
  {
   "cell_type": "code",
   "execution_count": null,
   "id": "39feca64",
   "metadata": {},
   "outputs": [],
   "source": [
    "df = pd.read_csv('data.csv')\n",
    "df"
   ]
  },
  {
   "cell_type": "markdown",
   "id": "eaa08546",
   "metadata": {},
   "source": [
    "#### 4.2 Writing CSV Files\n"
   ]
  },
  {
   "cell_type": "code",
   "execution_count": null,
   "id": "2fc5db29",
   "metadata": {},
   "outputs": [],
   "source": [
    "df.to_csv('data.csv')\n",
    "df"
   ]
  },
  {
   "cell_type": "markdown",
   "id": "9bb1d3e9",
   "metadata": {},
   "source": [
    "#### 4.3 ReadingExcelFiles"
   ]
  },
  {
   "cell_type": "code",
   "execution_count": null,
   "id": "28ba42e1",
   "metadata": {},
   "outputs": [],
   "source": [
    "df = pd.read_excel('data.xlsx')\n",
    "df"
   ]
  },
  {
   "cell_type": "markdown",
   "id": "03cfd80c",
   "metadata": {},
   "source": [
    "#### 4.4 Writing Excel Files"
   ]
  },
  {
   "cell_type": "code",
   "execution_count": null,
   "id": "84bb10d6",
   "metadata": {},
   "outputs": [],
   "source": [
    "df.to_excel('output.xlsx', index = False)\n"
   ]
  },
  {
   "cell_type": "markdown",
   "id": "11f83451",
   "metadata": {},
   "source": [
    "# 5. Data Manipulation\n",
    "#### 5.1 Indexing and Selection"
   ]
  },
  {
   "cell_type": "code",
   "execution_count": null,
   "id": "9f899902",
   "metadata": {},
   "outputs": [],
   "source": [
    "#COLUMNS\n",
    "\n",
    "# Selecting a Single Column\n",
    "col = df['Column_Name']\n",
    "\n",
    "# Selecting a Multipe Column\n",
    "col = df['Column1','Column2']"
   ]
  },
  {
   "cell_type": "code",
   "execution_count": null,
   "id": "7bf3bb2f",
   "metadata": {},
   "outputs": [],
   "source": [
    "#ROWS\n",
    "\n",
    "#Selecting rows based on conditions\n",
    "selected_rows = df[df['Column_Name']>50]\n",
    "\n",
    "#Selecting rows based on their positions\n",
    "selected_rows = df.iloc[2:5]"
   ]
  },
  {
   "cell_type": "markdown",
   "id": "a8ef4403",
   "metadata": {},
   "source": [
    "#### 5.2 Filtering Data\n"
   ]
  },
  {
   "cell_type": "code",
   "execution_count": null,
   "id": "13d1b8d7",
   "metadata": {},
   "outputs": [],
   "source": [
    "filtered_data = df[df['Column']>50]"
   ]
  },
  {
   "cell_type": "markdown",
   "id": "bc9cbb4d",
   "metadata": {},
   "source": [
    "#### 5.3 Sorting Data\n"
   ]
  },
  {
   "cell_type": "code",
   "execution_count": null,
   "id": "c87d4855",
   "metadata": {},
   "outputs": [],
   "source": [
    "# Sorting Data based on a single column\n",
    "sorted_data = df.sort_values('Column')\n",
    "\n",
    "# Sorting Data based on a Multiple column\n",
    "sorted_data = df.sort_values(['Column1','Column2'])"
   ]
  },
  {
   "cell_type": "markdown",
   "id": "f48dcb6f",
   "metadata": {},
   "source": [
    "#### 5.4 Aggregating Data"
   ]
  },
  {
   "cell_type": "code",
   "execution_count": null,
   "id": "0bfa7c8b",
   "metadata": {},
   "outputs": [],
   "source": [
    "# Calculating the sum of a column\n",
    "col_Sum = df['Column_Name'].sum()\n",
    "\n",
    "# Calculating the mean of a column\n",
    "col_Mean = df['Column_Name'].mean()\n",
    "\n",
    "# Calculating the number of occurance in a column\n",
    "col_count = df['Column_Name'].value_counts()"
   ]
  },
  {
   "cell_type": "markdown",
   "id": "da962655",
   "metadata": {},
   "source": [
    "#### 5.5 Handling Missing Data"
   ]
  },
  {
   "cell_type": "code",
   "execution_count": null,
   "id": "f9db5bd5",
   "metadata": {},
   "outputs": [],
   "source": [
    "# Dropping rows with missing values\n",
    "clean_data = df.dropna()\n",
    "\n",
    "# Filling missing values with a specific value\n",
    "filled_data = df.fillna(0)\n",
    "\n",
    "# Filling missing value with the mean of the column\n",
    "meas_filled_data = df.fillna(df.mean())"
   ]
  },
  {
   "cell_type": "markdown",
   "id": "65e0a070",
   "metadata": {},
   "source": [
    "# 6. Data Cleaning\n",
    "#### 6.1 Removing Duplicates\n"
   ]
  },
  {
   "cell_type": "code",
   "execution_count": null,
   "id": "46153a1a",
   "metadata": {},
   "outputs": [],
   "source": [
    "# Checking for duplicate rows\n",
    "duplicate_rows = df.duplicated()\n",
    "\n",
    "# Dropping duplicate rows\n",
    "clea_data = df.frop_duplicates()"
   ]
  },
  {
   "cell_type": "markdown",
   "id": "facf079e",
   "metadata": {},
   "source": [
    "#### 6.2 Renaming Columns"
   ]
  },
  {
   "cell_type": "code",
   "execution_count": null,
   "id": "2902db30",
   "metadata": {},
   "outputs": [],
   "source": [
    "df.rename(columns = {'Old Name':'New_Name'}, inplace = True)"
   ]
  },
  {
   "cell_type": "markdown",
   "id": "6c61cdf3",
   "metadata": {},
   "source": [
    "#### 6.3 Handling Null Values\n",
    "* isnull()\n",
    "* notnull()\n",
    "* dropna()"
   ]
  },
  {
   "cell_type": "code",
   "execution_count": null,
   "id": "8f365d69",
   "metadata": {},
   "outputs": [],
   "source": [
    "# Checking for null values\n",
    "null_values = df.isnull()\n",
    "\n",
    "# Dropping rows with null values\n",
    "clean = df.dropna()"
   ]
  },
  {
   "cell_type": "markdown",
   "id": "d2c88e80",
   "metadata": {},
   "source": [
    "#### 6.4 Changing Data Types"
   ]
  },
  {
   "cell_type": "code",
   "execution_count": null,
   "id": "575c6b83",
   "metadata": {},
   "outputs": [],
   "source": [
    "df['Column'] = df['Column'].astype(int)"
   ]
  },
  {
   "cell_type": "markdown",
   "id": "592d6501",
   "metadata": {},
   "source": [
    "# 7. Data Visualization\n",
    "#### 7.1 Line Plots\n"
   ]
  },
  {
   "cell_type": "code",
   "execution_count": null,
   "id": "def7e325",
   "metadata": {},
   "outputs": [],
   "source": [
    "import matplotlib.pyplot as plt\n",
    "\n",
    "df.plot(x = 'Date', y = 'Value')\n",
    "plt.title('Line Plot')\n",
    "plt.show()"
   ]
  },
  {
   "cell_type": "markdown",
   "id": "b96e85e2",
   "metadata": {},
   "source": [
    "#### 7.2 Bar Plots"
   ]
  },
  {
   "cell_type": "code",
   "execution_count": null,
   "id": "cf22741e",
   "metadata": {},
   "outputs": [],
   "source": [
    "df.plot(kind ='bar',x ='Category', y = 'Value')\n",
    "plt.title('Bar Plot')\n",
    "plt.show()"
   ]
  },
  {
   "cell_type": "markdown",
   "id": "0d729c34",
   "metadata": {},
   "source": [
    "#### 7.3 Scatter Plots"
   ]
  },
  {
   "cell_type": "code",
   "execution_count": null,
   "id": "8dd4e61d",
   "metadata": {},
   "outputs": [],
   "source": [
    "df.plot(kind ='scatter',x ='X', y = 'Y')\n",
    "plt.title('Scatter Plot')\n",
    "plt.show()"
   ]
  },
  {
   "cell_type": "markdown",
   "id": "b565887d",
   "metadata": {},
   "source": [
    "#### 7.4 Histograms\n"
   ]
  },
  {
   "cell_type": "code",
   "execution_count": null,
   "id": "0b88e456",
   "metadata": {},
   "outputs": [],
   "source": [
    "df['Column_Name'].plot(kind='hist')\n",
    "plt.title('Histogram')\n",
    "plt.show()"
   ]
  },
  {
   "cell_type": "markdown",
   "id": "b13e1ae1",
   "metadata": {},
   "source": [
    "#### 7.5 Box Plots"
   ]
  },
  {
   "cell_type": "code",
   "execution_count": null,
   "id": "e992820f",
   "metadata": {},
   "outputs": [],
   "source": [
    "df.boxplot(column = 'Value', by = 'Category')\n",
    "plt.title('Box Plot')\n",
    "plt.show()"
   ]
  },
  {
   "cell_type": "markdown",
   "id": "4046f037",
   "metadata": {},
   "source": [
    "# 8. Time Series Analysis\n",
    "#### 8.1 Creating Time Series Data\n"
   ]
  },
  {
   "cell_type": "code",
   "execution_count": null,
   "id": "b2d7cf78",
   "metadata": {},
   "outputs": [],
   "source": [
    "# Creating a time series with a fixed frequency\n",
    "dates = pd.date_range(start = '2021-01-01', end = '2021-12-31', freq = 'D')"
   ]
  },
  {
   "cell_type": "markdown",
   "id": "3de2f9c0",
   "metadata": {},
   "source": [
    "#### 8.2 Resampling and Frequency Conversion\n"
   ]
  },
  {
   "cell_type": "code",
   "execution_count": null,
   "id": "2961a3aa",
   "metadata": {},
   "outputs": [],
   "source": [
    "Resampling to a lower frequency\n",
    "weekly_data = df.resample('W').mean()"
   ]
  },
  {
   "cell_type": "markdown",
   "id": "a5a431d3",
   "metadata": {},
   "source": [
    "#### 8.3 Shifting and Lagging"
   ]
  },
  {
   "cell_type": "code",
   "execution_count": null,
   "id": "cb0dd792",
   "metadata": {},
   "outputs": [],
   "source": [
    "# Shifting time series data by specified number of periods\n",
    "shifted_data = df['Column_Name'].shift(1)"
   ]
  },
  {
   "cell_type": "markdown",
   "id": "c8a8f625",
   "metadata": {},
   "source": [
    "#### 8.4 Rolling Window Functions\n"
   ]
  },
  {
   "cell_type": "code",
   "execution_count": null,
   "id": "0e345215",
   "metadata": {},
   "outputs": [],
   "source": [
    "# Calculating the rolling mean over a window of size 3\n",
    "rolling_mean = df['Column_Name'].rolling(window=3).mean()"
   ]
  },
  {
   "cell_type": "markdown",
   "id": "32260d65",
   "metadata": {},
   "source": [
    "# 9. Conclusion\n",
    "This practical guide has introduced you to the key features of\n",
    "Pandas for data science. You learned about installing Pandas,\n",
    "importing it into your Python environment, and working with its\n",
    "data structures, such as Series, DataFrame, and Panel. You\n",
    "also explored various data manipulation techniques, data\n",
    "cleaning methods, data visualization options, and time series\n",
    "analysis capabilities in Pandas. With this knowledge, you can\n",
    "start using Pandas effectively for your data science projects"
   ]
  }
 ],
 "metadata": {
  "kernelspec": {
   "display_name": "Python 3 (ipykernel)",
   "language": "python",
   "name": "python3"
  },
  "language_info": {
   "codemirror_mode": {
    "name": "ipython",
    "version": 3
   },
   "file_extension": ".py",
   "mimetype": "text/x-python",
   "name": "python",
   "nbconvert_exporter": "python",
   "pygments_lexer": "ipython3",
   "version": "3.11.3"
  }
 },
 "nbformat": 4,
 "nbformat_minor": 5
}
